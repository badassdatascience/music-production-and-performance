{
 "cells": [
  {
   "cell_type": "code",
   "execution_count": null,
   "id": "be3c0f9d-c900-4545-b959-51396524de3e",
   "metadata": {},
   "outputs": [],
   "source": []
  },
  {
   "cell_type": "code",
   "execution_count": 7,
   "id": "39a09f69-5c7c-4728-91ea-98b4527dee06",
   "metadata": {},
   "outputs": [],
   "source": [
    "import os\n",
    "import librosa\n",
    "import numpy as np\n",
    "import pandas as pd\n",
    "import matplotlib.pyplot as plt\n",
    "\n",
    "from badass_music.theory.western.scales.chromatic import chromatic_scale_pitch_class_names"
   ]
  },
  {
   "cell_type": "code",
   "execution_count": null,
   "id": "1ab4b077-dbb5-49b5-9b48-9f9898139e64",
   "metadata": {},
   "outputs": [],
   "source": []
  },
  {
   "cell_type": "code",
   "execution_count": 8,
   "id": "dda6814f-830e-42f5-bfa0-71c487abf15f",
   "metadata": {},
   "outputs": [],
   "source": [
    "track_to_analyze_filename = os.environ['BMPP_HOME'] + '/badass_music/data/Lady Napalm - Kwiky Bridge (Instant Satisfaction Mix).mp3'\n",
    "#track_to_analyze_filename = os.environ['BMPP_HOME'] + '/badass_music/data/Lady Napalm - Voice in the Distance.mp3'\n",
    "\n",
    "sampling_rate_for_import = 11025 / 4 # 22050   48000\n",
    "hop_length_min = 1000\n",
    "number_of_seconds_max = 2\n",
    "\n",
    "chroma_function_to_use = librosa.feature.chroma_stft"
   ]
  },
  {
   "cell_type": "code",
   "execution_count": null,
   "id": "7ffb341c-d6e3-47b1-b622-f9518b884e88",
   "metadata": {},
   "outputs": [],
   "source": []
  },
  {
   "cell_type": "code",
   "execution_count": 3,
   "id": "d0e1284b-1dc5-4596-a2ca-b8c92404eef6",
   "metadata": {},
   "outputs": [],
   "source": [
    "hop_length_array = np.arange(\n",
    "    hop_length_min,\n",
    "    (sampling_rate_for_import * number_of_seconds_max) + hop_length_min,\n",
    "    hop_length_min,\n",
    ")"
   ]
  },
  {
   "cell_type": "code",
   "execution_count": null,
   "id": "53afa52a-72f8-4950-a5a9-436ed48463f7",
   "metadata": {},
   "outputs": [],
   "source": []
  },
  {
   "cell_type": "code",
   "execution_count": 9,
   "id": "d7cca81e-c6c8-4278-8262-7aed4b1c3f38",
   "metadata": {},
   "outputs": [],
   "source": [
    "y, sr = librosa.load(\n",
    "    track_to_analyze_filename,\n",
    "    sr = sampling_rate_for_import,\n",
    ")  "
   ]
  },
  {
   "cell_type": "code",
   "execution_count": null,
   "id": "1b52b180-d147-499e-b4e0-a86a8447ff0c",
   "metadata": {},
   "outputs": [],
   "source": []
  },
  {
   "cell_type": "code",
   "execution_count": 10,
   "id": "6b086b40-b788-4d26-bd97-e0ffe59541d4",
   "metadata": {},
   "outputs": [],
   "source": [
    "y_harmonic, y_percussive = librosa.effects.hpss(y)"
   ]
  },
  {
   "cell_type": "code",
   "execution_count": null,
   "id": "4a4afd5b-581a-4512-82e0-6cad06b39927",
   "metadata": {},
   "outputs": [],
   "source": []
  },
  {
   "cell_type": "code",
   "execution_count": 6,
   "id": "b8ce2adf-f141-4ef5-9f5e-4b50b7a8149d",
   "metadata": {},
   "outputs": [
    {
     "ename": "ParameterError",
     "evalue": "hop_length=1000.0 must be a positive integer",
     "output_type": "error",
     "traceback": [
      "\u001b[0;31m---------------------------------------------------------------------------\u001b[0m",
      "\u001b[0;31mParameterError\u001b[0m                            Traceback (most recent call last)",
      "Cell \u001b[0;32mIn[6], line 5\u001b[0m\n\u001b[1;32m      2\u001b[0m results_list \u001b[38;5;241m=\u001b[39m []\n\u001b[1;32m      3\u001b[0m \u001b[38;5;28;01mfor\u001b[39;00m hop_length \u001b[38;5;129;01min\u001b[39;00m hop_length_array:\n\u001b[1;32m      4\u001b[0m     results_list\u001b[38;5;241m.\u001b[39mappend(\n\u001b[0;32m----> 5\u001b[0m         \u001b[43mchroma_function_to_use\u001b[49m\u001b[43m(\u001b[49m\n\u001b[1;32m      6\u001b[0m \u001b[43m            \u001b[49m\u001b[43my\u001b[49m\u001b[43m \u001b[49m\u001b[38;5;241;43m=\u001b[39;49m\u001b[43m \u001b[49m\u001b[43my_harmonic\u001b[49m\u001b[43m,\u001b[49m\n\u001b[1;32m      7\u001b[0m \u001b[43m            \u001b[49m\u001b[43msr\u001b[49m\u001b[43m \u001b[49m\u001b[38;5;241;43m=\u001b[39;49m\u001b[43m \u001b[49m\u001b[43msampling_rate_for_import\u001b[49m\u001b[43m,\u001b[49m\n\u001b[1;32m      8\u001b[0m \u001b[43m            \u001b[49m\u001b[43mhop_length\u001b[49m\u001b[43m \u001b[49m\u001b[38;5;241;43m=\u001b[39;49m\u001b[43m \u001b[49m\u001b[43mhop_length\u001b[49m\u001b[43m,\u001b[49m\n\u001b[1;32m      9\u001b[0m \u001b[43m        \u001b[49m\u001b[43m)\u001b[49m\n\u001b[1;32m     10\u001b[0m     )\n\u001b[1;32m     11\u001b[0m results_list_per_note_means \u001b[38;5;241m=\u001b[39m np\u001b[38;5;241m.\u001b[39marray([np\u001b[38;5;241m.\u001b[39mmean(x, axis\u001b[38;5;241m=\u001b[39m\u001b[38;5;241m1\u001b[39m) \u001b[38;5;28;01mfor\u001b[39;00m x \u001b[38;5;129;01min\u001b[39;00m results_list])\n",
      "File \u001b[0;32m~/venvs/ml/lib/python3.10/site-packages/librosa/feature/spectral.py:1262\u001b[0m, in \u001b[0;36mchroma_stft\u001b[0;34m(y, sr, S, norm, n_fft, hop_length, win_length, window, center, pad_mode, tuning, n_chroma, **kwargs)\u001b[0m\n\u001b[1;32m   1132\u001b[0m \u001b[38;5;28;01mdef\u001b[39;00m \u001b[38;5;21mchroma_stft\u001b[39m(\n\u001b[1;32m   1133\u001b[0m     \u001b[38;5;241m*\u001b[39m,\n\u001b[1;32m   1134\u001b[0m     y: Optional[np\u001b[38;5;241m.\u001b[39mndarray] \u001b[38;5;241m=\u001b[39m \u001b[38;5;28;01mNone\u001b[39;00m,\n\u001b[0;32m   (...)\u001b[0m\n\u001b[1;32m   1146\u001b[0m     \u001b[38;5;241m*\u001b[39m\u001b[38;5;241m*\u001b[39mkwargs: Any,\n\u001b[1;32m   1147\u001b[0m ) \u001b[38;5;241m-\u001b[39m\u001b[38;5;241m>\u001b[39m np\u001b[38;5;241m.\u001b[39mndarray:\n\u001b[1;32m   1148\u001b[0m \u001b[38;5;250m    \u001b[39m\u001b[38;5;124;03m\"\"\"Compute a chromagram from a waveform or power spectrogram.\u001b[39;00m\n\u001b[1;32m   1149\u001b[0m \n\u001b[1;32m   1150\u001b[0m \u001b[38;5;124;03m    This implementation is derived from ``chromagram_E`` [#]_\u001b[39;00m\n\u001b[0;32m   (...)\u001b[0m\n\u001b[1;32m   1260\u001b[0m \u001b[38;5;124;03m    >>> fig.colorbar(img, ax=[ax[1]])\u001b[39;00m\n\u001b[1;32m   1261\u001b[0m \u001b[38;5;124;03m    \"\"\"\u001b[39;00m\n\u001b[0;32m-> 1262\u001b[0m     S, n_fft \u001b[38;5;241m=\u001b[39m \u001b[43m_spectrogram\u001b[49m\u001b[43m(\u001b[49m\n\u001b[1;32m   1263\u001b[0m \u001b[43m        \u001b[49m\u001b[43my\u001b[49m\u001b[38;5;241;43m=\u001b[39;49m\u001b[43my\u001b[49m\u001b[43m,\u001b[49m\n\u001b[1;32m   1264\u001b[0m \u001b[43m        \u001b[49m\u001b[43mS\u001b[49m\u001b[38;5;241;43m=\u001b[39;49m\u001b[43mS\u001b[49m\u001b[43m,\u001b[49m\n\u001b[1;32m   1265\u001b[0m \u001b[43m        \u001b[49m\u001b[43mn_fft\u001b[49m\u001b[38;5;241;43m=\u001b[39;49m\u001b[43mn_fft\u001b[49m\u001b[43m,\u001b[49m\n\u001b[1;32m   1266\u001b[0m \u001b[43m        \u001b[49m\u001b[43mhop_length\u001b[49m\u001b[38;5;241;43m=\u001b[39;49m\u001b[43mhop_length\u001b[49m\u001b[43m,\u001b[49m\n\u001b[1;32m   1267\u001b[0m \u001b[43m        \u001b[49m\u001b[43mpower\u001b[49m\u001b[38;5;241;43m=\u001b[39;49m\u001b[38;5;241;43m2\u001b[39;49m\u001b[43m,\u001b[49m\n\u001b[1;32m   1268\u001b[0m \u001b[43m        \u001b[49m\u001b[43mwin_length\u001b[49m\u001b[38;5;241;43m=\u001b[39;49m\u001b[43mwin_length\u001b[49m\u001b[43m,\u001b[49m\n\u001b[1;32m   1269\u001b[0m \u001b[43m        \u001b[49m\u001b[43mwindow\u001b[49m\u001b[38;5;241;43m=\u001b[39;49m\u001b[43mwindow\u001b[49m\u001b[43m,\u001b[49m\n\u001b[1;32m   1270\u001b[0m \u001b[43m        \u001b[49m\u001b[43mcenter\u001b[49m\u001b[38;5;241;43m=\u001b[39;49m\u001b[43mcenter\u001b[49m\u001b[43m,\u001b[49m\n\u001b[1;32m   1271\u001b[0m \u001b[43m        \u001b[49m\u001b[43mpad_mode\u001b[49m\u001b[38;5;241;43m=\u001b[39;49m\u001b[43mpad_mode\u001b[49m\u001b[43m,\u001b[49m\n\u001b[1;32m   1272\u001b[0m \u001b[43m    \u001b[49m\u001b[43m)\u001b[49m\n\u001b[1;32m   1274\u001b[0m     \u001b[38;5;28;01mif\u001b[39;00m tuning \u001b[38;5;129;01mis\u001b[39;00m \u001b[38;5;28;01mNone\u001b[39;00m:\n\u001b[1;32m   1275\u001b[0m         tuning \u001b[38;5;241m=\u001b[39m estimate_tuning(S\u001b[38;5;241m=\u001b[39mS, sr\u001b[38;5;241m=\u001b[39msr, bins_per_octave\u001b[38;5;241m=\u001b[39mn_chroma)\n",
      "File \u001b[0;32m~/venvs/ml/lib/python3.10/site-packages/librosa/core/spectrum.py:2945\u001b[0m, in \u001b[0;36m_spectrogram\u001b[0;34m(y, S, n_fft, hop_length, power, win_length, window, center, pad_mode)\u001b[0m\n\u001b[1;32m   2939\u001b[0m     \u001b[38;5;28;01mif\u001b[39;00m y \u001b[38;5;129;01mis\u001b[39;00m \u001b[38;5;28;01mNone\u001b[39;00m:\n\u001b[1;32m   2940\u001b[0m         \u001b[38;5;28;01mraise\u001b[39;00m ParameterError(\n\u001b[1;32m   2941\u001b[0m             \u001b[38;5;124m\"\u001b[39m\u001b[38;5;124mInput signal must be provided to compute a spectrogram\u001b[39m\u001b[38;5;124m\"\u001b[39m\n\u001b[1;32m   2942\u001b[0m         )\n\u001b[1;32m   2943\u001b[0m     S \u001b[38;5;241m=\u001b[39m (\n\u001b[1;32m   2944\u001b[0m         np\u001b[38;5;241m.\u001b[39mabs(\n\u001b[0;32m-> 2945\u001b[0m             \u001b[43mstft\u001b[49m\u001b[43m(\u001b[49m\n\u001b[1;32m   2946\u001b[0m \u001b[43m                \u001b[49m\u001b[43my\u001b[49m\u001b[43m,\u001b[49m\n\u001b[1;32m   2947\u001b[0m \u001b[43m                \u001b[49m\u001b[43mn_fft\u001b[49m\u001b[38;5;241;43m=\u001b[39;49m\u001b[43mn_fft\u001b[49m\u001b[43m,\u001b[49m\n\u001b[1;32m   2948\u001b[0m \u001b[43m                \u001b[49m\u001b[43mhop_length\u001b[49m\u001b[38;5;241;43m=\u001b[39;49m\u001b[43mhop_length\u001b[49m\u001b[43m,\u001b[49m\n\u001b[1;32m   2949\u001b[0m \u001b[43m                \u001b[49m\u001b[43mwin_length\u001b[49m\u001b[38;5;241;43m=\u001b[39;49m\u001b[43mwin_length\u001b[49m\u001b[43m,\u001b[49m\n\u001b[1;32m   2950\u001b[0m \u001b[43m                \u001b[49m\u001b[43mcenter\u001b[49m\u001b[38;5;241;43m=\u001b[39;49m\u001b[43mcenter\u001b[49m\u001b[43m,\u001b[49m\n\u001b[1;32m   2951\u001b[0m \u001b[43m                \u001b[49m\u001b[43mwindow\u001b[49m\u001b[38;5;241;43m=\u001b[39;49m\u001b[43mwindow\u001b[49m\u001b[43m,\u001b[49m\n\u001b[1;32m   2952\u001b[0m \u001b[43m                \u001b[49m\u001b[43mpad_mode\u001b[49m\u001b[38;5;241;43m=\u001b[39;49m\u001b[43mpad_mode\u001b[49m\u001b[43m,\u001b[49m\n\u001b[1;32m   2953\u001b[0m \u001b[43m            \u001b[49m\u001b[43m)\u001b[49m\n\u001b[1;32m   2954\u001b[0m         )\n\u001b[1;32m   2955\u001b[0m         \u001b[38;5;241m*\u001b[39m\u001b[38;5;241m*\u001b[39m power\n\u001b[1;32m   2956\u001b[0m     )\n\u001b[1;32m   2958\u001b[0m \u001b[38;5;28;01mreturn\u001b[39;00m S, n_fft\n",
      "File \u001b[0;32m~/venvs/ml/lib/python3.10/site-packages/librosa/core/spectrum.py:236\u001b[0m, in \u001b[0;36mstft\u001b[0;34m(y, n_fft, hop_length, win_length, window, center, dtype, pad_mode, out)\u001b[0m\n\u001b[1;32m    234\u001b[0m     hop_length \u001b[38;5;241m=\u001b[39m \u001b[38;5;28mint\u001b[39m(win_length \u001b[38;5;241m/\u001b[39m\u001b[38;5;241m/\u001b[39m \u001b[38;5;241m4\u001b[39m)\n\u001b[1;32m    235\u001b[0m \u001b[38;5;28;01melif\u001b[39;00m \u001b[38;5;129;01mnot\u001b[39;00m util\u001b[38;5;241m.\u001b[39mis_positive_int(hop_length):\n\u001b[0;32m--> 236\u001b[0m     \u001b[38;5;28;01mraise\u001b[39;00m ParameterError(\u001b[38;5;124mf\u001b[39m\u001b[38;5;124m\"\u001b[39m\u001b[38;5;124mhop_length=\u001b[39m\u001b[38;5;132;01m{\u001b[39;00mhop_length\u001b[38;5;132;01m}\u001b[39;00m\u001b[38;5;124m must be a positive integer\u001b[39m\u001b[38;5;124m\"\u001b[39m)\n\u001b[1;32m    238\u001b[0m \u001b[38;5;66;03m# Check audio is valid\u001b[39;00m\n\u001b[1;32m    239\u001b[0m util\u001b[38;5;241m.\u001b[39mvalid_audio(y)\n",
      "\u001b[0;31mParameterError\u001b[0m: hop_length=1000.0 must be a positive integer"
     ]
    }
   ],
   "source": [
    "if True:\n",
    "    results_list = []\n",
    "    for hop_length in hop_length_array:\n",
    "        results_list.append(\n",
    "            chroma_function_to_use(\n",
    "                y = y_harmonic,\n",
    "                sr = sampling_rate_for_import,\n",
    "                hop_length = hop_length,\n",
    "            )\n",
    "        )\n",
    "    results_list_per_note_means = np.array([np.mean(x, axis=1) for x in results_list])"
   ]
  },
  {
   "cell_type": "code",
   "execution_count": null,
   "id": "787a0c7d-c888-4547-ba21-531fe4905861",
   "metadata": {},
   "outputs": [],
   "source": [
    "df = pd.DataFrame(results_list_per_note_means, columns = chromatic_scale_pitch_class_names)"
   ]
  },
  {
   "cell_type": "code",
   "execution_count": null,
   "id": "3aca3092-b8b1-4822-a514-ffb25971a3c5",
   "metadata": {},
   "outputs": [],
   "source": [
    "df"
   ]
  },
  {
   "cell_type": "code",
   "execution_count": null,
   "id": "6f9a6cb2-fa4d-497d-b8fb-c266ce163f65",
   "metadata": {},
   "outputs": [],
   "source": []
  },
  {
   "cell_type": "code",
   "execution_count": null,
   "id": "9dfb5083-4883-4c5f-91b8-41a46d5dd69e",
   "metadata": {},
   "outputs": [],
   "source": [
    "from scipy.stats import entropy\n",
    "ent = np.array([entropy(x) for x in results_list_per_note_means])\n",
    "#ent\n",
    "\n",
    "plt.figure()\n",
    "plt.scatter(hop_length_array, ent)\n",
    "plt.show()\n",
    "plt.close()"
   ]
  },
  {
   "cell_type": "code",
   "execution_count": null,
   "id": "585cdb48-e97f-409f-ad81-7d0146f11626",
   "metadata": {},
   "outputs": [],
   "source": []
  },
  {
   "cell_type": "code",
   "execution_count": null,
   "id": "e5cdc730-7e4a-4272-aaac-0b4ec62e2c38",
   "metadata": {},
   "outputs": [],
   "source": [
    "plt.figure()\n",
    "plt.scatter(hop_length_array, np.std(results_list_per_note_means, axis = 1))\n",
    "plt.show()\n",
    "plt.close()"
   ]
  },
  {
   "cell_type": "code",
   "execution_count": null,
   "id": "f13b7382-71c6-4e80-af30-b1d01a449836",
   "metadata": {},
   "outputs": [],
   "source": []
  },
  {
   "cell_type": "code",
   "execution_count": null,
   "id": "b1593196-b6fc-4bdc-a820-98206b4c480c",
   "metadata": {},
   "outputs": [],
   "source": []
  },
  {
   "cell_type": "code",
   "execution_count": null,
   "id": "fb469a3b-c054-47de-8b63-a7f88018d4f3",
   "metadata": {},
   "outputs": [],
   "source": [
    "estimated_tonic = np.argmax(results_list_per_note_means, axis = 1)\n",
    "estimated_tonic"
   ]
  },
  {
   "cell_type": "code",
   "execution_count": null,
   "id": "44427b57-0627-4255-9004-7c2127cb56f1",
   "metadata": {},
   "outputs": [],
   "source": [
    "estimated_least = np.argmin(results_list_per_note_means, axis = 1)\n",
    "estimated_least"
   ]
  },
  {
   "cell_type": "code",
   "execution_count": null,
   "id": "4a3b4c9d-deb3-47bc-a98d-99ed709cb93b",
   "metadata": {},
   "outputs": [],
   "source": [
    "for mx, mn in zip(estimated_tonic, estimated_least):\n",
    "    abs_range = results_list_per_note_means[:, mx] - results_list_per_note_means[:, mn]\n",
    "\n",
    "plt.figure()\n",
    "plt.scatter(hop_length_array, abs_range)\n",
    "plt.show()\n",
    "plt.close()"
   ]
  },
  {
   "cell_type": "code",
   "execution_count": null,
   "id": "ece8a34d-5265-4286-a922-e1642379c2ab",
   "metadata": {},
   "outputs": [],
   "source": []
  },
  {
   "cell_type": "code",
   "execution_count": null,
   "id": "5eb3c8d5-d498-4a27-9de0-e6bce930cb7d",
   "metadata": {},
   "outputs": [],
   "source": []
  },
  {
   "cell_type": "code",
   "execution_count": null,
   "id": "9e65e439-b892-42d3-b782-1f887b13795b",
   "metadata": {},
   "outputs": [],
   "source": [
    "df"
   ]
  },
  {
   "cell_type": "code",
   "execution_count": null,
   "id": "54b8a482-0d64-4d3e-a16f-9a10767a5ffa",
   "metadata": {},
   "outputs": [],
   "source": [
    "from sklearn.decomposition import PCA\n",
    "from sklearn.cluster import KMeans\n",
    "#from sklearn.metrics import silhouette_score\n",
    "from sklearn.preprocessing import StandardScaler\n",
    "\n",
    "def scale_it(features):\n",
    "    scaler = StandardScaler()\n",
    "    features_scaled = scaler.fit_transform(features)\n",
    "    return features_scaled\n",
    "\n",
    "\n",
    "features = df.to_numpy()\n",
    "features_scaled = scale_it(features)\n",
    "\n",
    "pca = PCA(n_components = 2)\n",
    "pca.fit(features_scaled)\n",
    "features_scaled_pca = pca.transform(features_scaled)\n",
    "\n",
    "features_scaled_pca_scaled = scale_it(features_scaled_pca)\n",
    "\n",
    "kmeans = KMeans(\n",
    "    init = 'random',\n",
    "    n_clusters = 4,\n",
    "    n_init = 10,\n",
    "    max_iter = 300,\n",
    "    random_state = 42\n",
    ")\n",
    "\n",
    "kmeans.fit(features_scaled_pca_scaled)\n",
    "\n",
    "print(kmeans.inertia_)\n",
    "print()\n",
    "print(kmeans.cluster_centers_)\n",
    "print()\n",
    "print(kmeans.labels_)\n",
    "\n",
    "df_post_kmeans = df.copy()\n",
    "df_post_kmeans['hop_length'] = hop_length_array\n",
    "df_post_kmeans['label_from_kmeans'] = kmeans.labels_\n",
    "\n",
    "plt.figure()\n",
    "plt.scatter(features_scaled_pca[:, 0], features_scaled_pca[:, 1], c = kmeans.labels_)\n",
    "plt.show()\n",
    "plt.close()"
   ]
  },
  {
   "cell_type": "code",
   "execution_count": null,
   "id": "5021974b-cf59-48c5-b462-a95d48f0a994",
   "metadata": {},
   "outputs": [],
   "source": [
    "df_post_kmeans"
   ]
  },
  {
   "cell_type": "code",
   "execution_count": null,
   "id": "0d2ea6ec-67a7-4f84-ad7a-62eccb4f5bdd",
   "metadata": {},
   "outputs": [],
   "source": [
    "df_post_kmeans.groupby('label_from_kmeans')['C'].agg('count')"
   ]
  },
  {
   "cell_type": "code",
   "execution_count": null,
   "id": "4ba24e70-a88f-472f-b273-e6131e958c50",
   "metadata": {},
   "outputs": [],
   "source": [
    "plt.figure()\n",
    "plt.bar(df_post_kmeans.index, df_post_kmeans['label_from_kmeans'], align = 'center')\n",
    "plt.show()\n",
    "plt.close()"
   ]
  },
  {
   "cell_type": "code",
   "execution_count": null,
   "id": "22713486-defb-4579-9dbc-1fc239d1df2d",
   "metadata": {},
   "outputs": [],
   "source": []
  },
  {
   "cell_type": "code",
   "execution_count": null,
   "id": "bfb86237-9422-4edc-b250-4b47be5dd51a",
   "metadata": {},
   "outputs": [],
   "source": []
  },
  {
   "cell_type": "code",
   "execution_count": null,
   "id": "70a2997b-0776-4186-826e-013c29a7d6f5",
   "metadata": {},
   "outputs": [],
   "source": []
  },
  {
   "cell_type": "code",
   "execution_count": null,
   "id": "d3eaf0cc-85d7-43fe-b162-b69d9c77fb02",
   "metadata": {},
   "outputs": [],
   "source": [
    "if True:\n",
    "    dft_result_numpy = np.fft.fft(y_harmonic)\n",
    "\n",
    "amplitudes = np.abs(dft_result_numpy)"
   ]
  },
  {
   "cell_type": "code",
   "execution_count": null,
   "id": "2ed0b5a4-6ae5-46cf-a1e3-d18366768241",
   "metadata": {},
   "outputs": [],
   "source": [
    "#from badass_music.MIDI.MIDI_number_to import MIDI_note_number_array_to_frequency_array\n",
    "\n",
    "if True:\n",
    "    L = y_harmonic.shape[0]\n",
    "\n",
    "    #\n",
    "    # https://pythonnumericalmethods.studentorg.berkeley.edu/notebooks/chapter24.02-Discrete-Fourier-Transform.html\n",
    "    #\n",
    "    T = L / sampling_rate_for_import\n",
    "    N = L\n",
    "    n = np.arange(N)\n",
    "\n",
    "    freq = n / T\n",
    "    #freq = np.fft.fftfreq(L, d = 1. / sampling_rate_for_import)\n",
    "    \n",
    "\n",
    "    X = dft_result_numpy\n",
    "    N = len(X)\n",
    "    n = np.arange(N)\n",
    "    T = N / sampling_rate_for_import\n",
    "    freq = n / T \n",
    "\n",
    "    plt.figure(figsize = (8, 6))\n",
    "    plt.stem(freq, abs(X), 'b', \\\n",
    "             markerfmt=\" \", basefmt=\"-b\")\n",
    "    plt.xlabel('Freq (Hz)')\n",
    "    plt.ylabel('DFT Amplitude |X(freq)|')\n",
    "    plt.show()\n",
    "\n",
    "    \n",
    "    if False:\n",
    "        #print(L)\n",
    "        #print(y_harmonic.shape)\n",
    "        #print(T)\n",
    "\n",
    "        n_half = np.uint64(np.floor( (len(n) - 1) / 2 ))\n",
    "        indices = np.uint64(np.arange(0, n_half))\n",
    "\n",
    "        print(indices)\n",
    "        #print(T)\n",
    "        print(amplitudes[indices[0:5]])\n",
    "        print(freq[indices[-5:]])\n",
    "        #print(freq)\n",
    "\n",
    "        #how_many = 100\n",
    "        #plt.figure()\n",
    "        #plt.stem(freq[0:how_many], abs(dft_result_numpy[0:how_many]), 'b', markerfmt = ' ', basefmt = '-b')\n",
    "        #plt.show()\n",
    "        #plt.close()\n",
    "\n"
   ]
  },
  {
   "cell_type": "code",
   "execution_count": null,
   "id": "ef1cd9b7-a2a0-4e92-b782-dafcfae12032",
   "metadata": {},
   "outputs": [],
   "source": []
  },
  {
   "cell_type": "code",
   "execution_count": null,
   "id": "1b9f7878-0376-45ed-9d7e-1fdfec7f5cba",
   "metadata": {},
   "outputs": [],
   "source": []
  }
 ],
 "metadata": {
  "kernelspec": {
   "display_name": "Python 3 (ipykernel)",
   "language": "python",
   "name": "python3"
  },
  "language_info": {
   "codemirror_mode": {
    "name": "ipython",
    "version": 3
   },
   "file_extension": ".py",
   "mimetype": "text/x-python",
   "name": "python",
   "nbconvert_exporter": "python",
   "pygments_lexer": "ipython3",
   "version": "3.10.12"
  }
 },
 "nbformat": 4,
 "nbformat_minor": 5
}
