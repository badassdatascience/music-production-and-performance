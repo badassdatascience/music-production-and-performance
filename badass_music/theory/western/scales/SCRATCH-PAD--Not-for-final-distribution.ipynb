{
 "cells": [
  {
   "cell_type": "code",
   "execution_count": null,
   "id": "cb8f0e39-8d53-455a-abdf-6d7b0c9b9923",
   "metadata": {},
   "outputs": [],
   "source": []
  },
  {
   "cell_type": "markdown",
   "id": "54f8a16f-0e27-4f96-996f-b7d3d0860e0b",
   "metadata": {},
   "source": [
    "## Import useful libraries"
   ]
  },
  {
   "cell_type": "code",
   "execution_count": 1,
   "id": "ed3d5c69-bcad-4765-843e-43628315bb82",
   "metadata": {},
   "outputs": [],
   "source": [
    "import numpy as np\n",
    "import pprint as pp"
   ]
  },
  {
   "cell_type": "code",
   "execution_count": 2,
   "id": "bf253c8d-1a91-4283-a329-8a0ce94ce51c",
   "metadata": {},
   "outputs": [],
   "source": [
    "from badass_music.theory.western.scales.chromatic import chromatic_scale_pitch_class_names\n",
    "from badass_music.theory.western.scales.chromatic import chromatic_scale_numeric"
   ]
  },
  {
   "cell_type": "markdown",
   "id": "c60883b9-48da-4b46-bdb5-5be1fcfa922d",
   "metadata": {},
   "source": [
    "## Switch to NumPy"
   ]
  },
  {
   "cell_type": "code",
   "execution_count": 3,
   "id": "ea796ee5-b59e-47d9-9b7e-35b6f20a9e81",
   "metadata": {},
   "outputs": [
    {
     "name": "stdout",
     "output_type": "stream",
     "text": [
      "['C' 'Db' 'D' 'Eb' 'E' 'F' 'F#' 'G' 'Ab' 'A' 'Bb' 'B']\n",
      "[ 0  1  2  3  4  5  6  7  8  9 10 11]\n"
     ]
    }
   ],
   "source": [
    "chromatic_scale_pitch_class_names = np.array(chromatic_scale_pitch_class_names)\n",
    "chromatic_scale_numeric = np.array(chromatic_scale_numeric)\n",
    "\n",
    "print(chromatic_scale_pitch_class_names)\n",
    "print(chromatic_scale_numeric)"
   ]
  },
  {
   "cell_type": "markdown",
   "id": "729db9b2-22ea-45c2-ab65-75260f36373a",
   "metadata": {},
   "source": [
    "## Define a function to convert Ionian mode to related modes\n",
    "\n",
    "Default is to use C as the base pitch, which is generally how the assumed output will be used:"
   ]
  },
  {
   "cell_type": "code",
   "execution_count": 4,
   "id": "7fe23d8b-5cbc-465d-91e1-12e089e8bbd8",
   "metadata": {},
   "outputs": [],
   "source": [
    "def roll_the_modes(\n",
    "    diatonic_mode_names = ['Ionian', 'Dorian', 'Phrygian', 'Lydian', 'Mixolydian', 'Aeolian', 'Locrian'],\n",
    "    Ionian_mode = ['C', 'D', 'E', 'F', 'G', 'A', 'B'],\n",
    "):\n",
    "    name_list = []\n",
    "    mode_list = []\n",
    "    for i, name in zip(range(0, len(Ionian_mode)), diatonic_mode_names):\n",
    "        mode = Ionian_mode[i:]\n",
    "        mode.extend(Ionian_mode[0:i])\n",
    "        name_list.append(name)\n",
    "        mode_list.append(mode)\n",
    "        \n",
    "    assert name_list == diatonic_mode_names\n",
    "    return mode_list, name_list"
   ]
  },
  {
   "cell_type": "code",
   "execution_count": 5,
   "id": "6e3a7ce7-e579-44c0-9e1e-af396b3f653c",
   "metadata": {},
   "outputs": [
    {
     "name": "stdout",
     "output_type": "stream",
     "text": [
      "[['C', 'D', 'E', 'F', 'G', 'A', 'B'],\n",
      " ['D', 'E', 'F', 'G', 'A', 'B', 'C'],\n",
      " ['E', 'F', 'G', 'A', 'B', 'C', 'D'],\n",
      " ['F', 'G', 'A', 'B', 'C', 'D', 'E'],\n",
      " ['G', 'A', 'B', 'C', 'D', 'E', 'F'],\n",
      " ['A', 'B', 'C', 'D', 'E', 'F', 'G'],\n",
      " ['B', 'C', 'D', 'E', 'F', 'G', 'A']]\n",
      "\n",
      "['Ionian', 'Dorian', 'Phrygian', 'Lydian', 'Mixolydian', 'Aeolian', 'Locrian']\n"
     ]
    }
   ],
   "source": [
    "mode_pitch_class_root_names_list, mode_names_list = roll_the_modes()\n",
    "\n",
    "pp.pprint(mode_pitch_class_root_names_list)\n",
    "print()\n",
    "pp.pprint(mode_names_list)"
   ]
  },
  {
   "cell_type": "code",
   "execution_count": null,
   "id": "20b5d778-d8b5-434c-b687-85a39cc377c5",
   "metadata": {},
   "outputs": [],
   "source": []
  },
  {
   "cell_type": "code",
   "execution_count": 6,
   "id": "beef2ad7-402b-4ba5-ab99-a69f31c9aa62",
   "metadata": {},
   "outputs": [
    {
     "name": "stdout",
     "output_type": "stream",
     "text": [
      "[[ 0  2  4  5  7  9 11]\n",
      " [ 0  2  3  5  7  9 10]\n",
      " [ 0  1  3  5  7  8 10]\n",
      " [ 0  2  4  6  7  9 11]\n",
      " [ 0  2  4  5  7  9 10]\n",
      " [ 0  2  3  5  7  8 10]\n",
      " [ 0  1  3  5  6  8 10]]\n"
     ]
    }
   ],
   "source": [
    "#\n",
    "# calculate the modes (C-based)\n",
    "#\n",
    "def calculate_the_modes(mode_list):\n",
    "    all_modes_indices_list = []\n",
    "    for mode in mode_list:\n",
    "    \n",
    "        # there is probably a more NumPy-ish way to do this with broadcasting...\n",
    "        index_list = []\n",
    "        for pitch_class in mode:\n",
    "            index = list(chromatic_scale_pitch_class_names).index(pitch_class)\n",
    "            index_list.append(index)\n",
    "\n",
    "        all_modes_indices_list.append(np.array(index_list))\n",
    "    all_modes_indices_list = np.array(all_modes_indices_list)\n",
    "\n",
    "    X = np.zeros([len(all_modes_indices_list[:, 0]), 1])\n",
    "    X[:, 0] = all_modes_indices_list[:, 0]\n",
    "    q = all_modes_indices_list - X\n",
    "    r = q % 12\n",
    "    r = np.int8(r)\n",
    "    return r\n",
    "\n",
    "modes_numeric = calculate_the_modes(mode_pitch_class_root_names_list)\n",
    "print(modes_numeric)"
   ]
  },
  {
   "cell_type": "code",
   "execution_count": null,
   "id": "b5cf0d42-9c5e-42d2-a5bd-02c1c5a8cfb1",
   "metadata": {},
   "outputs": [],
   "source": []
  },
  {
   "cell_type": "code",
   "execution_count": 7,
   "id": "486bf7fd-3fb4-4e20-b5eb-9005f98e15f5",
   "metadata": {},
   "outputs": [
    {
     "name": "stdout",
     "output_type": "stream",
     "text": [
      "(array(['A', 'B', 'C', 'D', 'E', 'F', 'G'], dtype='<U1'), array([1, 1, 1, 1, 1, 1, 1]))\n",
      "(array(['A', 'B', 'C', 'D', 'E', 'F', 'G'], dtype='<U1'), array([1, 1, 1, 1, 1, 1, 1]))\n",
      "(array(['A', 'B', 'C', 'D', 'E', 'F', 'G'], dtype='<U1'), array([1, 1, 1, 1, 1, 1, 1]))\n",
      "(array(['A', 'B', 'C', 'D', 'E', 'F', 'G'], dtype='<U1'), array([1, 1, 1, 1, 1, 1, 1]))\n",
      "(array(['A', 'B', 'C', 'D', 'E', 'F', 'G'], dtype='<U1'), array([1, 1, 1, 1, 1, 1, 1]))\n",
      "(array(['A', 'B', 'C', 'D', 'E', 'F', 'G'], dtype='<U1'), array([1, 1, 1, 1, 1, 1, 1]))\n",
      "(array(['A', 'B', 'C', 'D', 'E', 'F'], dtype='<U1'), array([1, 1, 1, 1, 1, 2]))\n"
     ]
    }
   ],
   "source": [
    "# there is probably a better NumPy way to do this...\n",
    "\n",
    "# Need to deal with the F and F# in the last mode\n",
    "\n",
    "for mode_i in np.arange(0, modes_numeric.shape[0]):\n",
    "    mode_index = modes_numeric[mode_i, :]\n",
    "    cpcn = chromatic_scale_pitch_class_names[mode_index]\n",
    "\n",
    "    print(np.unique(np.array([x[0] for x in cpcn]), return_counts = True))"
   ]
  },
  {
   "cell_type": "code",
   "execution_count": null,
   "id": "9d95b71c-c70e-4e73-b51b-5286721fd356",
   "metadata": {},
   "outputs": [],
   "source": []
  },
  {
   "cell_type": "code",
   "execution_count": null,
   "id": "5b190e87-9885-442c-97fc-cf7b2ecd7833",
   "metadata": {},
   "outputs": [],
   "source": []
  },
  {
   "cell_type": "code",
   "execution_count": null,
   "id": "e5eb2f1b-a75f-45e7-8119-c88256eebe88",
   "metadata": {},
   "outputs": [],
   "source": []
  },
  {
   "cell_type": "code",
   "execution_count": null,
   "id": "f524f12a-7fdd-42a3-8525-4236ff1a9d23",
   "metadata": {},
   "outputs": [],
   "source": []
  },
  {
   "cell_type": "code",
   "execution_count": 9,
   "id": "5c1668f0-5b34-4860-901b-254b71a31c42",
   "metadata": {},
   "outputs": [
    {
     "name": "stdout",
     "output_type": "stream",
     "text": [
      "Sequence provided by user: [ 0  1  2  3  4  5  6  7  8  9 10 11]\n",
      "Chromatic interval provided by user: 7\n",
      "Transposed pitch numbers: [ 7  8  9 10 11 12 13 14 15 16 17 18]\n",
      "Corresponding octaves: [-1 -1 -1 -1 -1  0  0  0  0  0  0  0]\n",
      "\n",
      "Sequence provided by user: [ 0  1  2  3  4  5  6  7  8  9 10 11]\n",
      "Chromatic interval provided by user: -7\n",
      "Transposed pitch numbers: [-7 -6 -5 -4 -3 -2 -1  0  1  2  3  4]\n",
      "Corresponding octaves: [-2 -2 -2 -2 -2 -2 -2 -1 -1 -1 -1 -1]\n",
      "\n",
      "Sequence provided by user: [ 0  1  2  3  4  5  6  7  8  9 10 11]\n",
      "Chromatic interval provided by user: 60\n",
      "Transposed pitch numbers: [60 61 62 63 64 65 66 67 68 69 70 71]\n",
      "Corresponding octaves: [4 4 4 4 4 4 4 4 4 4 4 4]\n",
      "\n",
      "Sequence provided by user: [ 0  1  2  3  4  5  6  7  8  9 10 11]\n",
      "Chromatic interval provided by user: 120\n",
      "Transposed pitch numbers: [120 121 122 123 124 125 126 127 128 129 130 131]\n",
      "Corresponding octaves: [9 9 9 9 9 9 9 9 9 9 9 9]\n",
      "\n",
      "Sequence provided by user: [ 0  1  2  3  4  5  6  7  8  9 10 11]\n",
      "Chromatic interval provided by user: 127\n",
      "Transposed pitch numbers: [127 128 129 130 131 132 133 134 135 136 137 138]\n",
      "Corresponding octaves: [ 9  9  9  9  9 10 10 10 10 10 10 10]\n",
      "\n",
      "Sequence provided by user: [ 0  1  2  3  4  5  6  7  8  9 10 11]\n",
      "Chromatic interval provided by user: 132\n",
      "Transposed pitch numbers: [132 133 134 135 136 137 138 139 140 141 142 143]\n",
      "Corresponding octaves: [10 10 10 10 10 10 10 10 10 10 10 10]\n",
      "\n"
     ]
    }
   ],
   "source": [
    "from badass_music.theory.western.transposition import chromatic_transpose\n",
    "\n",
    "x = chromatic_transpose(chromatic_scale_numeric, verbose = True)\n",
    "x = chromatic_transpose(chromatic_scale_numeric, chromatic_interval = -7, verbose = True)\n",
    "x = chromatic_transpose(chromatic_scale_numeric, chromatic_interval = 60, verbose = True)\n",
    "x = chromatic_transpose(chromatic_scale_numeric, chromatic_interval = 120, verbose = True)\n",
    "x = chromatic_transpose(chromatic_scale_numeric, chromatic_interval = 127, verbose = True)\n",
    "x = chromatic_transpose(chromatic_scale_numeric, chromatic_interval = 132, verbose = True)\n"
   ]
  },
  {
   "cell_type": "code",
   "execution_count": null,
   "id": "a316df12-60c5-43d2-8348-231d22da66a7",
   "metadata": {},
   "outputs": [],
   "source": []
  },
  {
   "cell_type": "code",
   "execution_count": null,
   "id": "b1098330-b3a8-4b25-a924-37f4e1e01c42",
   "metadata": {},
   "outputs": [],
   "source": []
  },
  {
   "cell_type": "code",
   "execution_count": null,
   "id": "231bb882-7d96-49d5-9648-7c8acdef483e",
   "metadata": {},
   "outputs": [],
   "source": []
  }
 ],
 "metadata": {
  "kernelspec": {
   "display_name": "Python 3 (ipykernel)",
   "language": "python",
   "name": "python3"
  },
  "language_info": {
   "codemirror_mode": {
    "name": "ipython",
    "version": 3
   },
   "file_extension": ".py",
   "mimetype": "text/x-python",
   "name": "python",
   "nbconvert_exporter": "python",
   "pygments_lexer": "ipython3",
   "version": "3.10.12"
  }
 },
 "nbformat": 4,
 "nbformat_minor": 5
}
