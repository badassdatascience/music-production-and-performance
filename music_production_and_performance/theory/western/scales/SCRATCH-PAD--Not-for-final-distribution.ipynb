{
 "cells": [
  {
   "cell_type": "code",
   "execution_count": null,
   "id": "cb8f0e39-8d53-455a-abdf-6d7b0c9b9923",
   "metadata": {},
   "outputs": [],
   "source": []
  },
  {
   "cell_type": "code",
   "execution_count": 3,
   "id": "ed3d5c69-bcad-4765-843e-43628315bb82",
   "metadata": {},
   "outputs": [],
   "source": [
    "import numpy as np"
   ]
  },
  {
   "cell_type": "code",
   "execution_count": 4,
   "id": "bf253c8d-1a91-4283-a329-8a0ce94ce51c",
   "metadata": {},
   "outputs": [],
   "source": [
    "from music_production_and_performance.theory.western.scales.chromatic import chromatic_scale_pitch_class_names\n",
    "from music_production_and_performance.theory.western.scales.chromatic import chromatic_scale_numeric"
   ]
  },
  {
   "cell_type": "code",
   "execution_count": null,
   "id": "4530a896-7155-4543-9cf2-31b3b9f4cf2e",
   "metadata": {},
   "outputs": [],
   "source": []
  },
  {
   "cell_type": "code",
   "execution_count": 31,
   "id": "ea796ee5-b59e-47d9-9b7e-35b6f20a9e81",
   "metadata": {},
   "outputs": [
    {
     "name": "stdout",
     "output_type": "stream",
     "text": [
      "['C' 'Db' 'D' 'Eb' 'E' 'F' 'F#' 'G' 'Ab' 'A' 'Bb' 'B']\n",
      "[ 0  1  2  3  4  5  6  7  8  9 10 11]\n"
     ]
    }
   ],
   "source": [
    "chromatic_scale_pitch_class_names = np.array(chromatic_scale_pitch_class_names)\n",
    "chromatic_scale_numeric = np.array(chromatic_scale_numeric)\n",
    "\n",
    "print(chromatic_scale_pitch_class_names)\n",
    "print(chromatic_scale_numeric)"
   ]
  },
  {
   "cell_type": "code",
   "execution_count": null,
   "id": "730d79ad-a762-43be-b3c5-3fb7fcc6610d",
   "metadata": {},
   "outputs": [],
   "source": []
  },
  {
   "cell_type": "code",
   "execution_count": 60,
   "id": "beef2ad7-402b-4ba5-ab99-a69f31c9aa62",
   "metadata": {},
   "outputs": [
    {
     "name": "stdout",
     "output_type": "stream",
     "text": [
      "array([[ 0,  2,  4,  5,  7,  9, 11],\n",
      "       [ 2,  4,  5,  7,  9, 11,  0],\n",
      "       [ 4,  5,  7,  9, 11,  0,  2],\n",
      "       [ 5,  7,  9, 11,  0,  2,  4],\n",
      "       [ 7,  9, 11,  0,  2,  4,  5],\n",
      "       [ 9, 11,  0,  2,  4,  5,  7],\n",
      "       [11,  0,  2,  4,  5,  7,  9]])\n",
      "\n",
      "[[ 0  2  4  5  7  9 11]\n",
      " [ 0  2  3  5  7  9 10]\n",
      " [ 0  1  3  5  7  8 10]\n",
      " [ 0  2  4  6  7  9 11]\n",
      " [ 0  2  4  5  7  9 10]\n",
      " [ 0  2  3  5  7  8 10]\n",
      " [ 0  1  3  5  6  8 10]]\n"
     ]
    }
   ],
   "source": [
    "#diatonic_mode_names = ['Ionian', 'Dorian', 'Phrygian', 'Lydian', 'Mixolydian', 'Aeolian', 'Locrian']\n",
    "#Ionian_mode = ['C', 'D', 'E', 'F', 'G', 'A', 'B']\n",
    "\n",
    "def roll_the_modes(\n",
    "    diatonic_mode_names = ['Ionian', 'Dorian', 'Phrygian', 'Lydian', 'Mixolydian', 'Aeolian', 'Locrian'],\n",
    "    Ionian_mode = ['C', 'D', 'E', 'F', 'G', 'A', 'B'],\n",
    "):\n",
    "    name_list = []\n",
    "    mode_list = []\n",
    "    for i, name in zip(range(0, len(Ionian_mode)), diatonic_mode_names):\n",
    "        mode = Ionian_mode[i:]\n",
    "        mode.extend(Ionian_mode[0:i])\n",
    "        #mode = np.array(mode)\n",
    "        name_list.append(name)\n",
    "        mode_list.append(mode)\n",
    "        \n",
    "    \n",
    "    assert name_list == diatonic_mode_names\n",
    "    return mode_list, name_list\n",
    "\n",
    "mode_list, names_list = roll_the_modes()\n",
    "\n",
    "#\n",
    "# calculate the modes (C-based)\n",
    "#\n",
    "def calculate_the_modes(mode_list):\n",
    "    all_modes_indices_list = []\n",
    "    for mode in mode_list:\n",
    "    \n",
    "        # there is probably a more NumPy-ish way to do this with broadcasting...\n",
    "        index_list = []\n",
    "        for pitch_class in mode:\n",
    "            index = list(chromatic_scale_pitch_class_names).index(pitch_class)\n",
    "            index_list.append(index)\n",
    "\n",
    "        all_modes_indices_list.append(np.array(index_list))\n",
    "    all_modes_indices_list = np.array(all_modes_indices_list)\n",
    "\n",
    "    X = np.zeros([len(all_modes_indices_list[:, 0]), 1])\n",
    "    X[:, 0] = all_modes_indices_list[:, 0]\n",
    "    q = all_modes_indices_list - X\n",
    "    r = q % 12\n",
    "    r = np.int8(r)\n",
    "    return r\n",
    "\n",
    "import pprint as pp\n",
    "pp.pprint(all_modes_indices_list)\n",
    "print()\n",
    "modes_numeric = calculate_the_modes(mode_list)\n",
    "print(modes_numeric)"
   ]
  },
  {
   "cell_type": "code",
   "execution_count": null,
   "id": "b5cf0d42-9c5e-42d2-a5bd-02c1c5a8cfb1",
   "metadata": {},
   "outputs": [],
   "source": []
  },
  {
   "cell_type": "code",
   "execution_count": 77,
   "id": "486bf7fd-3fb4-4e20-b5eb-9005f98e15f5",
   "metadata": {},
   "outputs": [
    {
     "name": "stdout",
     "output_type": "stream",
     "text": [
      "(array(['A', 'B', 'C', 'D', 'E', 'F', 'G'], dtype='<U1'), array([1, 1, 1, 1, 1, 1, 1]))\n",
      "(array(['A', 'B', 'C', 'D', 'E', 'F', 'G'], dtype='<U1'), array([1, 1, 1, 1, 1, 1, 1]))\n",
      "(array(['A', 'B', 'C', 'D', 'E', 'F', 'G'], dtype='<U1'), array([1, 1, 1, 1, 1, 1, 1]))\n",
      "(array(['A', 'B', 'C', 'D', 'E', 'F', 'G'], dtype='<U1'), array([1, 1, 1, 1, 1, 1, 1]))\n",
      "(array(['A', 'B', 'C', 'D', 'E', 'F', 'G'], dtype='<U1'), array([1, 1, 1, 1, 1, 1, 1]))\n",
      "(array(['A', 'B', 'C', 'D', 'E', 'F', 'G'], dtype='<U1'), array([1, 1, 1, 1, 1, 1, 1]))\n",
      "(array(['A', 'B', 'C', 'D', 'E', 'F'], dtype='<U1'), array([1, 1, 1, 1, 1, 2]))\n"
     ]
    }
   ],
   "source": [
    "# there is probably a better NumPy way to do this...\n",
    "\n",
    "# Need to deal with the F and F# in the last mode\n",
    "\n",
    "for mode_i in np.arange(0, modes_numeric.shape[0]):\n",
    "    mode_index = modes_numeric[mode_i, :]\n",
    "    cpcn = chromatic_scale_pitch_class_names[mode_index]\n",
    "\n",
    "    print(np.unique(np.array([x[0] for x in cpcn]), return_counts = True))"
   ]
  },
  {
   "cell_type": "code",
   "execution_count": null,
   "id": "9d95b71c-c70e-4e73-b51b-5286721fd356",
   "metadata": {},
   "outputs": [],
   "source": []
  }
 ],
 "metadata": {
  "kernelspec": {
   "display_name": "Python 3 (ipykernel)",
   "language": "python",
   "name": "python3"
  },
  "language_info": {
   "codemirror_mode": {
    "name": "ipython",
    "version": 3
   },
   "file_extension": ".py",
   "mimetype": "text/x-python",
   "name": "python",
   "nbconvert_exporter": "python",
   "pygments_lexer": "ipython3",
   "version": "3.10.12"
  }
 },
 "nbformat": 4,
 "nbformat_minor": 5
}
