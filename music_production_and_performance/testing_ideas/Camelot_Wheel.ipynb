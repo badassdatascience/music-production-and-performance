{
 "cells": [
  {
   "cell_type": "code",
   "execution_count": null,
   "id": "50eab469-aa99-4197-8b48-0f7ca868b79e",
   "metadata": {},
   "outputs": [],
   "source": []
  },
  {
   "cell_type": "code",
   "execution_count": null,
   "id": "0a239064-444c-4658-a8ca-640ca08fa8b1",
   "metadata": {},
   "outputs": [],
   "source": []
  },
  {
   "cell_type": "code",
   "execution_count": null,
   "id": "c6a32010-3ddf-4e4b-a7ae-4ab3e61e6c7d",
   "metadata": {},
   "outputs": [],
   "source": []
  },
  {
   "cell_type": "code",
   "execution_count": null,
   "id": "0d667413-fd43-4fb7-85c3-12e5a1f44316",
   "metadata": {},
   "outputs": [],
   "source": []
  },
  {
   "cell_type": "code",
   "execution_count": null,
   "id": "4b44eb0f-445a-4efb-b12a-898e7e48e53b",
   "metadata": {},
   "outputs": [],
   "source": []
  },
  {
   "cell_type": "code",
   "execution_count": 1,
   "id": "fff068cb-f3d3-42e4-bae5-17b42684ddd7",
   "metadata": {},
   "outputs": [],
   "source": [
    "import numpy as np\n",
    "\n",
    "class ChromaticWorld():\n",
    "\n",
    "    def __init__(self):\n",
    "        self.chromatic_scale_numeric = np.arange(0, 12, dtype = np.uint8)\n",
    "\n",
    "        # using Mixed In Key's enharmonic spellings\n",
    "        self.array_chromatic_scale_pitch_classes = np.array(\n",
    "            [\n",
    "                'C', 'Db', 'D', 'Eb', 'E', 'F',\n",
    "                'F#', 'G', 'Ab', 'A', 'Bb', 'B',\n",
    "            ],\n",
    "            dtype = str\n",
    "        )\n",
    "        \n",
    "        self.compute_circle_of_fifths()\n",
    "        self.compute_minor_offset()\n",
    "    \n",
    "    def compute_circle_of_fifths(self):\n",
    "        circle_of_fifths = [0]\n",
    "        for pitch_class in self.chromatic_scale_numeric[1:]:\n",
    "            circle_of_fifths.append((circle_of_fifths[-1] + 7) % 12)\n",
    "        self.circle_of_fifths_numeric = np.array(circle_of_fifths, dtype = np.uint8)\n",
    "\n",
    "    def compute_minor_offset(self):\n",
    "        minor_offset_fifths = []\n",
    "        for pitch_class in self.circle_of_fifths_numeric:\n",
    "            minor_offset_fifths.append((pitch_class + 9) % 12)\n",
    "        self.minor_offset_fifths_numeric = np.array(minor_offset_fifths, dtype = np.uint8)\n",
    "\n"
   ]
  },
  {
   "cell_type": "code",
   "execution_count": 2,
   "id": "b11fe16d-0db5-4139-b70f-d3573a646ffb",
   "metadata": {},
   "outputs": [
    {
     "name": "stdout",
     "output_type": "stream",
     "text": [
      "[ 0  1  2  3  4  5  6  7  8  9 10 11]\n",
      "[ 0  7  2  9  4 11  6  1  8  3 10  5]\n",
      "[ 9  4 11  6  1  8  3 10  5  0  7  2]\n",
      "12\n",
      "['C' 'Db' 'D' 'Eb' 'E' 'F' 'F#' 'G' 'Ab' 'A' 'Bb' 'B']\n"
     ]
    }
   ],
   "source": [
    "c = ChromaticWorld()\n",
    "print(c.chromatic_scale_numeric)\n",
    "print(c.circle_of_fifths_numeric)\n",
    "print(c.minor_offset_fifths_numeric)\n",
    "print(len(c.array_chromatic_scale_pitch_classes))\n",
    "print(c.array_chromatic_scale_pitch_classes)"
   ]
  },
  {
   "cell_type": "code",
   "execution_count": null,
   "id": "1df28f37-79c4-4601-b9f8-5776c80307f9",
   "metadata": {},
   "outputs": [],
   "source": []
  },
  {
   "cell_type": "code",
   "execution_count": 3,
   "id": "60dff29e-5a8c-431a-a22d-b2f9d7b36944",
   "metadata": {},
   "outputs": [
    {
     "data": {
      "text/plain": [
       "array(['C', 'G', 'D', 'A', 'E', 'B', 'F#', 'Db', 'Ab', 'Eb', 'Bb', 'F'],\n",
       "      dtype='<U2')"
      ]
     },
     "execution_count": 3,
     "metadata": {},
     "output_type": "execute_result"
    }
   ],
   "source": [
    "c.array_chromatic_scale_pitch_classes[c.circle_of_fifths_numeric]"
   ]
  },
  {
   "cell_type": "code",
   "execution_count": null,
   "id": "022f10ed-2c7a-48f9-a8f5-c1547ea23db1",
   "metadata": {},
   "outputs": [],
   "source": []
  },
  {
   "cell_type": "code",
   "execution_count": null,
   "id": "c47c5315-30c7-4cf1-addc-15094bde761c",
   "metadata": {},
   "outputs": [],
   "source": []
  },
  {
   "cell_type": "code",
   "execution_count": 4,
   "id": "ef3da2dd-5915-44f0-9723-62d5ae165033",
   "metadata": {},
   "outputs": [],
   "source": [
    "camelot_major = np.array([str(((q + 7) % 12) + 1) + 'B' for q in range(0, 12)], dtype = str)\n",
    "camelot_minor = np.array([str(((q + 7) % 12) + 1) + 'A' for q in range(0, 12)], dtype = str)"
   ]
  },
  {
   "cell_type": "code",
   "execution_count": 17,
   "id": "6b245d08-a58b-48bd-a006-5cc587ab635c",
   "metadata": {},
   "outputs": [],
   "source": [
    "camelot_wheel_B_layer = list(\n",
    "    zip(\n",
    "        c.array_chromatic_scale_pitch_classes[c.circle_of_fifths_numeric],\n",
    "        camelot_major\n",
    "    )\n",
    ")"
   ]
  },
  {
   "cell_type": "code",
   "execution_count": 18,
   "id": "31678a8b-6a7d-41d4-83d6-5294b66a4eb4",
   "metadata": {},
   "outputs": [],
   "source": [
    "camelot_wheel_A_layer = list(\n",
    "    zip(\n",
    "        c.array_chromatic_scale_pitch_classes[c.minor_offset_fifths_numeric],\n",
    "        camelot_minor\n",
    "    )\n",
    ")"
   ]
  },
  {
   "cell_type": "code",
   "execution_count": 20,
   "id": "2ad9e25d-dc5a-4869-9990-238c4f5824c3",
   "metadata": {},
   "outputs": [
    {
     "data": {
      "text/plain": [
       "[(('A', '8A'), ('C', '8B')),\n",
       " (('E', '9A'), ('G', '9B')),\n",
       " (('B', '10A'), ('D', '10B')),\n",
       " (('F#', '11A'), ('A', '11B')),\n",
       " (('Db', '12A'), ('E', '12B')),\n",
       " (('Ab', '1A'), ('B', '1B')),\n",
       " (('Eb', '2A'), ('F#', '2B')),\n",
       " (('Bb', '3A'), ('Db', '3B')),\n",
       " (('F', '4A'), ('Ab', '4B')),\n",
       " (('C', '5A'), ('Eb', '5B')),\n",
       " (('G', '6A'), ('Bb', '6B')),\n",
       " (('D', '7A'), ('F', '7B'))]"
      ]
     },
     "execution_count": 20,
     "metadata": {},
     "output_type": "execute_result"
    }
   ],
   "source": [
    "list(zip(camelot_wheel_A_layer, camelot_wheel_B_layer))"
   ]
  },
  {
   "cell_type": "code",
   "execution_count": null,
   "id": "570853e6-c95a-4360-a02b-b62f0413ffd9",
   "metadata": {},
   "outputs": [],
   "source": []
  }
 ],
 "metadata": {
  "kernelspec": {
   "display_name": "Python 3 (ipykernel)",
   "language": "python",
   "name": "python3"
  },
  "language_info": {
   "codemirror_mode": {
    "name": "ipython",
    "version": 3
   },
   "file_extension": ".py",
   "mimetype": "text/x-python",
   "name": "python",
   "nbconvert_exporter": "python",
   "pygments_lexer": "ipython3",
   "version": "3.10.12"
  }
 },
 "nbformat": 4,
 "nbformat_minor": 5
}
