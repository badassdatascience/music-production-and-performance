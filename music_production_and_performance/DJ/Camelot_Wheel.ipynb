{
 "cells": [
  {
   "cell_type": "markdown",
   "id": "ae63b385-eab5-4acf-9646-6ac8c81e3648",
   "metadata": {},
   "source": [
    "# Programmatically Generate Mixed In Key's Camelot Wheel for DJs\n",
    "\n",
    "The code below defines and tests a Python class that programmatically generates the content provided by Mixed In Key's Camelot wheel. (It does not produce a pretty image like that shown below--just the key relationships involved. The idea is to use this for automated DJ set design in the near future:"
   ]
  },
  {
   "cell_type": "markdown",
   "id": "1c02a755-bc0c-42b3-b2ee-0e28ad4002d2",
   "metadata": {},
   "source": [
    "From [https://mixedinkey.com/wp-content/uploads/2020/04/Camelot-Wheel-Mixed-In-Key-Harmonic-Mixing.png](https://mixedinkey.com/wp-content/uploads/2020/04/Camelot-Wheel-Mixed-In-Key-Harmonic-Mixing.png):\n",
    "\n",
    "<img src=\"Camelot-Wheel-Mixed-In-Key-Harmonic-Mixing.png\" alt=\"CW\" width=\"400\"/>"
   ]
  },
  {
   "cell_type": "markdown",
   "id": "3266f549-17cc-410f-bfb5-0e39c2791f48",
   "metadata": {},
   "source": [
    "## Load required modules"
   ]
  },
  {
   "cell_type": "code",
   "execution_count": 1,
   "id": "c394a3f3-d44b-4b0c-bdae-9a67c75dd1b6",
   "metadata": {},
   "outputs": [],
   "source": [
    "import numpy as np\n",
    "\n",
    "from music_production_and_performance.theory.western.CircleOfFifths import CircleOfFifths\n",
    "from music_production_and_performance.DJ.CamelotWheel import CamelotWheel\n",
    "\n",
    "from music_production_and_performance.theory.western.scales.chromatic import chromatic_scale_pitch_class_names"
   ]
  },
  {
   "cell_type": "markdown",
   "id": "7d283072-12d7-4925-ba3f-c2c9ce723c05",
   "metadata": {},
   "source": [
    "## Define the chromatic scale\n",
    "\n",
    "This allows the user to select among the enharmonic options, e.g. \"F#\" vs. \"Gb\". Here I used Mixed In Key's enharmonic spellings."
   ]
  },
  {
   "cell_type": "code",
   "execution_count": 2,
   "id": "89f9d3f6-aedd-4abb-808a-61f057db6ab4",
   "metadata": {},
   "outputs": [],
   "source": [
    "chromatic_scale_pitch_classes = chromatic_scale_pitch_class_names\n",
    "scale_enumeration_indices = np.arange(0, 12, dtype = np.uint8)"
   ]
  },
  {
   "cell_type": "code",
   "execution_count": 3,
   "id": "38c84fba-b582-46e3-b717-3f0d776631cf",
   "metadata": {},
   "outputs": [
    {
     "data": {
      "text/plain": [
       "['C', 'Db', 'D', 'Eb', 'E', 'F', 'F#', 'G', 'Ab', 'A', 'Bb', 'B']"
      ]
     },
     "execution_count": 3,
     "metadata": {},
     "output_type": "execute_result"
    }
   ],
   "source": [
    "chromatic_scale_pitch_classes"
   ]
  },
  {
   "cell_type": "markdown",
   "id": "342521d8-316c-47a3-8e5b-2ce0a5e2ee8d",
   "metadata": {},
   "source": [
    "## Generate the circle of fifths"
   ]
  },
  {
   "cell_type": "code",
   "execution_count": 4,
   "id": "8dccd14d-dcaa-4ea4-a340-17d8c65c2332",
   "metadata": {},
   "outputs": [],
   "source": [
    "cf = CircleOfFifths(\n",
    "    chromatic_scale_pitch_classes = chromatic_scale_pitch_classes,\n",
    "    chromatic_scale_numeric = scale_enumeration_indices,    \n",
    ")"
   ]
  },
  {
   "cell_type": "code",
   "execution_count": 5,
   "id": "b52e9a98-03b8-4935-b899-4fee80389414",
   "metadata": {},
   "outputs": [
    {
     "data": {
      "text/plain": [
       "array(['C', 'G', 'D', 'A', 'E', 'B', 'F#', 'Db', 'Ab', 'Eb', 'Bb', 'F'],\n",
       "      dtype='<U2')"
      ]
     },
     "execution_count": 5,
     "metadata": {},
     "output_type": "execute_result"
    }
   ],
   "source": [
    "cf.circle_of_fifths"
   ]
  },
  {
   "cell_type": "markdown",
   "id": "203c3b72-ff07-4535-bae8-45a4e97b2702",
   "metadata": {},
   "source": [
    "## Generate the Camelot Wheel"
   ]
  },
  {
   "cell_type": "code",
   "execution_count": 6,
   "id": "b11fe16d-0db5-4139-b70f-d3573a646ffb",
   "metadata": {},
   "outputs": [
    {
     "data": {
      "text/html": [
       "<div>\n",
       "<style scoped>\n",
       "    .dataframe tbody tr th:only-of-type {\n",
       "        vertical-align: middle;\n",
       "    }\n",
       "\n",
       "    .dataframe tbody tr th {\n",
       "        vertical-align: top;\n",
       "    }\n",
       "\n",
       "    .dataframe thead th {\n",
       "        text-align: right;\n",
       "    }\n",
       "</style>\n",
       "<table border=\"1\" class=\"dataframe\">\n",
       "  <thead>\n",
       "    <tr style=\"text-align: right;\">\n",
       "      <th></th>\n",
       "      <th>camelot_tonic_number</th>\n",
       "      <th>tonic_pitch_class_minor</th>\n",
       "      <th>camelot_minor</th>\n",
       "      <th>tonic_pitch_class_major</th>\n",
       "      <th>camelot_major</th>\n",
       "    </tr>\n",
       "  </thead>\n",
       "  <tbody>\n",
       "    <tr>\n",
       "      <th>0</th>\n",
       "      <td>1</td>\n",
       "      <td>Ab</td>\n",
       "      <td>1A</td>\n",
       "      <td>B</td>\n",
       "      <td>1B</td>\n",
       "    </tr>\n",
       "    <tr>\n",
       "      <th>1</th>\n",
       "      <td>2</td>\n",
       "      <td>Eb</td>\n",
       "      <td>2A</td>\n",
       "      <td>F#</td>\n",
       "      <td>2B</td>\n",
       "    </tr>\n",
       "    <tr>\n",
       "      <th>2</th>\n",
       "      <td>3</td>\n",
       "      <td>Bb</td>\n",
       "      <td>3A</td>\n",
       "      <td>Db</td>\n",
       "      <td>3B</td>\n",
       "    </tr>\n",
       "    <tr>\n",
       "      <th>3</th>\n",
       "      <td>4</td>\n",
       "      <td>F</td>\n",
       "      <td>4A</td>\n",
       "      <td>Ab</td>\n",
       "      <td>4B</td>\n",
       "    </tr>\n",
       "    <tr>\n",
       "      <th>4</th>\n",
       "      <td>5</td>\n",
       "      <td>C</td>\n",
       "      <td>5A</td>\n",
       "      <td>Eb</td>\n",
       "      <td>5B</td>\n",
       "    </tr>\n",
       "    <tr>\n",
       "      <th>5</th>\n",
       "      <td>6</td>\n",
       "      <td>G</td>\n",
       "      <td>6A</td>\n",
       "      <td>Bb</td>\n",
       "      <td>6B</td>\n",
       "    </tr>\n",
       "    <tr>\n",
       "      <th>6</th>\n",
       "      <td>7</td>\n",
       "      <td>D</td>\n",
       "      <td>7A</td>\n",
       "      <td>F</td>\n",
       "      <td>7B</td>\n",
       "    </tr>\n",
       "    <tr>\n",
       "      <th>7</th>\n",
       "      <td>8</td>\n",
       "      <td>A</td>\n",
       "      <td>8A</td>\n",
       "      <td>C</td>\n",
       "      <td>8B</td>\n",
       "    </tr>\n",
       "    <tr>\n",
       "      <th>8</th>\n",
       "      <td>9</td>\n",
       "      <td>E</td>\n",
       "      <td>9A</td>\n",
       "      <td>G</td>\n",
       "      <td>9B</td>\n",
       "    </tr>\n",
       "    <tr>\n",
       "      <th>9</th>\n",
       "      <td>10</td>\n",
       "      <td>B</td>\n",
       "      <td>10A</td>\n",
       "      <td>D</td>\n",
       "      <td>10B</td>\n",
       "    </tr>\n",
       "    <tr>\n",
       "      <th>10</th>\n",
       "      <td>11</td>\n",
       "      <td>F#</td>\n",
       "      <td>11A</td>\n",
       "      <td>A</td>\n",
       "      <td>11B</td>\n",
       "    </tr>\n",
       "    <tr>\n",
       "      <th>11</th>\n",
       "      <td>12</td>\n",
       "      <td>Db</td>\n",
       "      <td>12A</td>\n",
       "      <td>E</td>\n",
       "      <td>12B</td>\n",
       "    </tr>\n",
       "  </tbody>\n",
       "</table>\n",
       "</div>"
      ],
      "text/plain": [
       "    camelot_tonic_number tonic_pitch_class_minor camelot_minor  \\\n",
       "0                      1                      Ab            1A   \n",
       "1                      2                      Eb            2A   \n",
       "2                      3                      Bb            3A   \n",
       "3                      4                       F            4A   \n",
       "4                      5                       C            5A   \n",
       "5                      6                       G            6A   \n",
       "6                      7                       D            7A   \n",
       "7                      8                       A            8A   \n",
       "8                      9                       E            9A   \n",
       "9                     10                       B           10A   \n",
       "10                    11                      F#           11A   \n",
       "11                    12                      Db           12A   \n",
       "\n",
       "   tonic_pitch_class_major camelot_major  \n",
       "0                        B            1B  \n",
       "1                       F#            2B  \n",
       "2                       Db            3B  \n",
       "3                       Ab            4B  \n",
       "4                       Eb            5B  \n",
       "5                       Bb            6B  \n",
       "6                        F            7B  \n",
       "7                        C            8B  \n",
       "8                        G            9B  \n",
       "9                        D           10B  \n",
       "10                       A           11B  \n",
       "11                       E           12B  "
      ]
     },
     "execution_count": 6,
     "metadata": {},
     "output_type": "execute_result"
    }
   ],
   "source": [
    "cw = CamelotWheel(cf)\n",
    "cw.df"
   ]
  },
  {
   "cell_type": "markdown",
   "id": "406effb3-6b0b-40ce-96c7-19cb0b4715af",
   "metadata": {},
   "source": [
    "## Generate the Default Camelot Wheel\n",
    "Should automatically match Mixed In Key's version:"
   ]
  },
  {
   "cell_type": "code",
   "execution_count": 7,
   "id": "1a8e092c-d41a-4a1a-98ed-13eb45b90cfd",
   "metadata": {},
   "outputs": [
    {
     "data": {
      "text/html": [
       "<div>\n",
       "<style scoped>\n",
       "    .dataframe tbody tr th:only-of-type {\n",
       "        vertical-align: middle;\n",
       "    }\n",
       "\n",
       "    .dataframe tbody tr th {\n",
       "        vertical-align: top;\n",
       "    }\n",
       "\n",
       "    .dataframe thead th {\n",
       "        text-align: right;\n",
       "    }\n",
       "</style>\n",
       "<table border=\"1\" class=\"dataframe\">\n",
       "  <thead>\n",
       "    <tr style=\"text-align: right;\">\n",
       "      <th></th>\n",
       "      <th>camelot_tonic_number</th>\n",
       "      <th>tonic_pitch_class_minor</th>\n",
       "      <th>camelot_minor</th>\n",
       "      <th>tonic_pitch_class_major</th>\n",
       "      <th>camelot_major</th>\n",
       "    </tr>\n",
       "  </thead>\n",
       "  <tbody>\n",
       "    <tr>\n",
       "      <th>0</th>\n",
       "      <td>1</td>\n",
       "      <td>Ab</td>\n",
       "      <td>1A</td>\n",
       "      <td>B</td>\n",
       "      <td>1B</td>\n",
       "    </tr>\n",
       "    <tr>\n",
       "      <th>1</th>\n",
       "      <td>2</td>\n",
       "      <td>Eb</td>\n",
       "      <td>2A</td>\n",
       "      <td>F#</td>\n",
       "      <td>2B</td>\n",
       "    </tr>\n",
       "    <tr>\n",
       "      <th>2</th>\n",
       "      <td>3</td>\n",
       "      <td>Bb</td>\n",
       "      <td>3A</td>\n",
       "      <td>Db</td>\n",
       "      <td>3B</td>\n",
       "    </tr>\n",
       "    <tr>\n",
       "      <th>3</th>\n",
       "      <td>4</td>\n",
       "      <td>F</td>\n",
       "      <td>4A</td>\n",
       "      <td>Ab</td>\n",
       "      <td>4B</td>\n",
       "    </tr>\n",
       "    <tr>\n",
       "      <th>4</th>\n",
       "      <td>5</td>\n",
       "      <td>C</td>\n",
       "      <td>5A</td>\n",
       "      <td>Eb</td>\n",
       "      <td>5B</td>\n",
       "    </tr>\n",
       "    <tr>\n",
       "      <th>5</th>\n",
       "      <td>6</td>\n",
       "      <td>G</td>\n",
       "      <td>6A</td>\n",
       "      <td>Bb</td>\n",
       "      <td>6B</td>\n",
       "    </tr>\n",
       "    <tr>\n",
       "      <th>6</th>\n",
       "      <td>7</td>\n",
       "      <td>D</td>\n",
       "      <td>7A</td>\n",
       "      <td>F</td>\n",
       "      <td>7B</td>\n",
       "    </tr>\n",
       "    <tr>\n",
       "      <th>7</th>\n",
       "      <td>8</td>\n",
       "      <td>A</td>\n",
       "      <td>8A</td>\n",
       "      <td>C</td>\n",
       "      <td>8B</td>\n",
       "    </tr>\n",
       "    <tr>\n",
       "      <th>8</th>\n",
       "      <td>9</td>\n",
       "      <td>E</td>\n",
       "      <td>9A</td>\n",
       "      <td>G</td>\n",
       "      <td>9B</td>\n",
       "    </tr>\n",
       "    <tr>\n",
       "      <th>9</th>\n",
       "      <td>10</td>\n",
       "      <td>B</td>\n",
       "      <td>10A</td>\n",
       "      <td>D</td>\n",
       "      <td>10B</td>\n",
       "    </tr>\n",
       "    <tr>\n",
       "      <th>10</th>\n",
       "      <td>11</td>\n",
       "      <td>F#</td>\n",
       "      <td>11A</td>\n",
       "      <td>A</td>\n",
       "      <td>11B</td>\n",
       "    </tr>\n",
       "    <tr>\n",
       "      <th>11</th>\n",
       "      <td>12</td>\n",
       "      <td>Db</td>\n",
       "      <td>12A</td>\n",
       "      <td>E</td>\n",
       "      <td>12B</td>\n",
       "    </tr>\n",
       "  </tbody>\n",
       "</table>\n",
       "</div>"
      ],
      "text/plain": [
       "    camelot_tonic_number tonic_pitch_class_minor camelot_minor  \\\n",
       "0                      1                      Ab            1A   \n",
       "1                      2                      Eb            2A   \n",
       "2                      3                      Bb            3A   \n",
       "3                      4                       F            4A   \n",
       "4                      5                       C            5A   \n",
       "5                      6                       G            6A   \n",
       "6                      7                       D            7A   \n",
       "7                      8                       A            8A   \n",
       "8                      9                       E            9A   \n",
       "9                     10                       B           10A   \n",
       "10                    11                      F#           11A   \n",
       "11                    12                      Db           12A   \n",
       "\n",
       "   tonic_pitch_class_major camelot_major  \n",
       "0                        B            1B  \n",
       "1                       F#            2B  \n",
       "2                       Db            3B  \n",
       "3                       Ab            4B  \n",
       "4                       Eb            5B  \n",
       "5                       Bb            6B  \n",
       "6                        F            7B  \n",
       "7                        C            8B  \n",
       "8                        G            9B  \n",
       "9                        D           10B  \n",
       "10                       A           11B  \n",
       "11                       E           12B  "
      ]
     },
     "execution_count": 7,
     "metadata": {},
     "output_type": "execute_result"
    }
   ],
   "source": [
    "cw_default = CamelotWheel.compute_default_camelot_wheel()\n",
    "cw_default.df"
   ]
  }
 ],
 "metadata": {
  "kernelspec": {
   "display_name": "Python 3 (ipykernel)",
   "language": "python",
   "name": "python3"
  },
  "language_info": {
   "codemirror_mode": {
    "name": "ipython",
    "version": 3
   },
   "file_extension": ".py",
   "mimetype": "text/x-python",
   "name": "python",
   "nbconvert_exporter": "python",
   "pygments_lexer": "ipython3",
   "version": "3.10.12"
  }
 },
 "nbformat": 4,
 "nbformat_minor": 5
}
