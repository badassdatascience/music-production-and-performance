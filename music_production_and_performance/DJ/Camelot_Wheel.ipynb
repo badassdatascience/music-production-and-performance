{
 "cells": [
  {
   "cell_type": "markdown",
   "id": "ae63b385-eab5-4acf-9646-6ac8c81e3648",
   "metadata": {},
   "source": [
    "# Programmatically Generate Mixed In Key's Camelot Wheel for DJs\n",
    "\n",
    "The code below defines and tests a Python class that programmatically generates the content provided by Mixed In Key's Camelot wheel. (It does not produce a pretty image like that shown below--just the key relationships involved. The idea is to use this for automated DJ set design in the near future:"
   ]
  },
  {
   "cell_type": "markdown",
   "id": "1c02a755-bc0c-42b3-b2ee-0e28ad4002d2",
   "metadata": {},
   "source": [
    "From [https://mixedinkey.com/wp-content/uploads/2020/04/Camelot-Wheel-Mixed-In-Key-Harmonic-Mixing.png](https://mixedinkey.com/wp-content/uploads/2020/04/Camelot-Wheel-Mixed-In-Key-Harmonic-Mixing.png):\n",
    "\n",
    "<img src=\"Camelot-Wheel-Mixed-In-Key-Harmonic-Mixing.png\" alt=\"CW\" width=\"400\"/>"
   ]
  },
  {
   "cell_type": "markdown",
   "id": "ff61516e-6f18-4af5-bd07-b05ac5c01304",
   "metadata": {},
   "source": [
    "## Define a class with which to programmatically generate the Camelot wheel"
   ]
  },
  {
   "cell_type": "code",
   "execution_count": 1,
   "id": "c394a3f3-d44b-4b0c-bdae-9a67c75dd1b6",
   "metadata": {},
   "outputs": [],
   "source": [
    "from music_production_and_performance.DJ.CamelotWheel import CamelotWheel"
   ]
  },
  {
   "cell_type": "markdown",
   "id": "7d283072-12d7-4925-ba3f-c2c9ce723c05",
   "metadata": {},
   "source": [
    "## Test it"
   ]
  },
  {
   "cell_type": "code",
   "execution_count": 2,
   "id": "b11fe16d-0db5-4139-b70f-d3573a646ffb",
   "metadata": {},
   "outputs": [
    {
     "data": {
      "text/plain": [
       "[(('A', '8A'), ('C', '8B')),\n",
       " (('E', '9A'), ('G', '9B')),\n",
       " (('B', '10A'), ('D', '10B')),\n",
       " (('F#', '11A'), ('A', '11B')),\n",
       " (('Db', '12A'), ('E', '12B')),\n",
       " (('Ab', '1A'), ('B', '1B')),\n",
       " (('Eb', '2A'), ('F#', '2B')),\n",
       " (('Bb', '3A'), ('Db', '3B')),\n",
       " (('F', '4A'), ('Ab', '4B')),\n",
       " (('C', '5A'), ('Eb', '5B')),\n",
       " (('G', '6A'), ('Bb', '6B')),\n",
       " (('D', '7A'), ('F', '7B'))]"
      ]
     },
     "execution_count": 2,
     "metadata": {},
     "output_type": "execute_result"
    }
   ],
   "source": [
    "c = CamelotWheel()\n",
    "c.summary()"
   ]
  }
 ],
 "metadata": {
  "kernelspec": {
   "display_name": "Python 3 (ipykernel)",
   "language": "python",
   "name": "python3"
  },
  "language_info": {
   "codemirror_mode": {
    "name": "ipython",
    "version": 3
   },
   "file_extension": ".py",
   "mimetype": "text/x-python",
   "name": "python",
   "nbconvert_exporter": "python",
   "pygments_lexer": "ipython3",
   "version": "3.10.12"
  }
 },
 "nbformat": 4,
 "nbformat_minor": 5
}
