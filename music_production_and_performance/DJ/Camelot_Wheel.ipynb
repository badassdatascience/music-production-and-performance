{
 "cells": [
  {
   "cell_type": "markdown",
   "id": "ae63b385-eab5-4acf-9646-6ac8c81e3648",
   "metadata": {},
   "source": [
    "# Programmatically Generate Mixed In Key's Camelot Wheel for DJs\n",
    "\n",
    "The code below defines and tests a Python class that programmatically generates the content provided by Mixed In Key's Camelot wheel. (It does not produce a pretty image like that shown below--just the key relationships involved. The idea is to use this for automated DJ set design in the near future:"
   ]
  },
  {
   "cell_type": "markdown",
   "id": "1c02a755-bc0c-42b3-b2ee-0e28ad4002d2",
   "metadata": {},
   "source": [
    "From [https://mixedinkey.com/wp-content/uploads/2020/04/Camelot-Wheel-Mixed-In-Key-Harmonic-Mixing.png](https://mixedinkey.com/wp-content/uploads/2020/04/Camelot-Wheel-Mixed-In-Key-Harmonic-Mixing.png):\n",
    "\n",
    "<img src=\"Camelot-Wheel-Mixed-In-Key-Harmonic-Mixing.png\" alt=\"CW\" width=\"400\"/>"
   ]
  },
  {
   "cell_type": "markdown",
   "id": "3266f549-17cc-410f-bfb5-0e39c2791f48",
   "metadata": {},
   "source": [
    "## Load required modules"
   ]
  },
  {
   "cell_type": "code",
   "execution_count": 1,
   "id": "c394a3f3-d44b-4b0c-bdae-9a67c75dd1b6",
   "metadata": {},
   "outputs": [],
   "source": [
    "import numpy as np\n",
    "\n",
    "from music_production_and_performance.theory.western.CircleOfFifths import CircleOfFifths\n",
    "from music_production_and_performance.DJ.CamelotWheel import CamelotWheel"
   ]
  },
  {
   "cell_type": "markdown",
   "id": "7d283072-12d7-4925-ba3f-c2c9ce723c05",
   "metadata": {},
   "source": [
    "## Define the chromatic scale\n",
    "\n",
    "This allows the user to select among the enharmonic options, e.g. \"F#\" vs. \"Gb\". Here I used Mixed In Key's enharmonic spellings."
   ]
  },
  {
   "cell_type": "code",
   "execution_count": 4,
   "id": "89f9d3f6-aedd-4abb-808a-61f057db6ab4",
   "metadata": {},
   "outputs": [],
   "source": [
    "chromatic_scale_pitch_classes = ['C', 'Db', 'D', 'Eb', 'E', 'F', 'F#', 'G', 'Ab', 'A', 'Bb', 'B']\n",
    "scale_enumeration_indices = np.arange(0, 12, dtype = np.uint8)"
   ]
  },
  {
   "cell_type": "markdown",
   "id": "342521d8-316c-47a3-8e5b-2ce0a5e2ee8d",
   "metadata": {},
   "source": [
    "## Generate the circle of fifths"
   ]
  },
  {
   "cell_type": "code",
   "execution_count": 7,
   "id": "8dccd14d-dcaa-4ea4-a340-17d8c65c2332",
   "metadata": {},
   "outputs": [],
   "source": [
    "cf = CircleOfFifths(\n",
    "    chromatic_scale_pitch_classes = chromatic_scale_pitch_classes,\n",
    "    chromatic_scale_numeric = scale_enumeration_indices,    \n",
    ")"
   ]
  },
  {
   "cell_type": "code",
   "execution_count": 9,
   "id": "b52e9a98-03b8-4935-b899-4fee80389414",
   "metadata": {},
   "outputs": [
    {
     "data": {
      "text/plain": [
       "array(['C', 'G', 'D', 'A', 'E', 'B', 'F#', 'Db', 'Ab', 'Eb', 'Bb', 'F'],\n",
       "      dtype='<U2')"
      ]
     },
     "execution_count": 9,
     "metadata": {},
     "output_type": "execute_result"
    }
   ],
   "source": [
    "cf.circle_of_fifths"
   ]
  },
  {
   "cell_type": "markdown",
   "id": "203c3b72-ff07-4535-bae8-45a4e97b2702",
   "metadata": {},
   "source": [
    "## Generate the Camelot Wheel"
   ]
  },
  {
   "cell_type": "code",
   "execution_count": 12,
   "id": "b11fe16d-0db5-4139-b70f-d3573a646ffb",
   "metadata": {},
   "outputs": [
    {
     "data": {
      "text/plain": [
       "[(('A', '8A'), ('C', '8B')),\n",
       " (('E', '9A'), ('G', '9B')),\n",
       " (('B', '10A'), ('D', '10B')),\n",
       " (('F#', '11A'), ('A', '11B')),\n",
       " (('Db', '12A'), ('E', '12B')),\n",
       " (('Ab', '1A'), ('B', '1B')),\n",
       " (('Eb', '2A'), ('F#', '2B')),\n",
       " (('Bb', '3A'), ('Db', '3B')),\n",
       " (('F', '4A'), ('Ab', '4B')),\n",
       " (('C', '5A'), ('Eb', '5B')),\n",
       " (('G', '6A'), ('Bb', '6B')),\n",
       " (('D', '7A'), ('F', '7B'))]"
      ]
     },
     "execution_count": 12,
     "metadata": {},
     "output_type": "execute_result"
    }
   ],
   "source": [
    "cw = CamelotWheel(cf)\n",
    "cw.summary()"
   ]
  }
 ],
 "metadata": {
  "kernelspec": {
   "display_name": "Python 3 (ipykernel)",
   "language": "python",
   "name": "python3"
  },
  "language_info": {
   "codemirror_mode": {
    "name": "ipython",
    "version": 3
   },
   "file_extension": ".py",
   "mimetype": "text/x-python",
   "name": "python",
   "nbconvert_exporter": "python",
   "pygments_lexer": "ipython3",
   "version": "3.12.4"
  }
 },
 "nbformat": 4,
 "nbformat_minor": 5
}
