{
 "cells": [
  {
   "cell_type": "code",
   "execution_count": null,
   "id": "50eab469-aa99-4197-8b48-0f7ca868b79e",
   "metadata": {},
   "outputs": [],
   "source": []
  },
  {
   "cell_type": "code",
   "execution_count": null,
   "id": "0a239064-444c-4658-a8ca-640ca08fa8b1",
   "metadata": {},
   "outputs": [],
   "source": []
  },
  {
   "cell_type": "code",
   "execution_count": null,
   "id": "c6a32010-3ddf-4e4b-a7ae-4ab3e61e6c7d",
   "metadata": {},
   "outputs": [],
   "source": []
  },
  {
   "cell_type": "code",
   "execution_count": null,
   "id": "0d667413-fd43-4fb7-85c3-12e5a1f44316",
   "metadata": {},
   "outputs": [],
   "source": []
  },
  {
   "cell_type": "code",
   "execution_count": null,
   "id": "4b44eb0f-445a-4efb-b12a-898e7e48e53b",
   "metadata": {},
   "outputs": [],
   "source": []
  },
  {
   "cell_type": "code",
   "execution_count": 3,
   "id": "fff068cb-f3d3-42e4-bae5-17b42684ddd7",
   "metadata": {},
   "outputs": [],
   "source": [
    "import numpy as np\n",
    "\n",
    "class CamelotWheel():\n",
    "\n",
    "    def __init__(self):\n",
    "        self.chromatic_scale_numeric = np.arange(0, 12, dtype = np.uint8)\n",
    "\n",
    "        # using Mixed In Key's enharmonic spellings\n",
    "        self.array_chromatic_scale_pitch_classes = np.array(['C', 'Db', 'D', 'Eb', 'E', 'F', 'F#', 'G', 'Ab', 'A', 'Bb', 'B'], dtype = str)\n",
    "        \n",
    "        self.compute_circle_of_fifths()\n",
    "        self.compute_minor_offset()\n",
    "        self.compute_camelot_wheel()\n",
    "    \n",
    "    def compute_circle_of_fifths(self):\n",
    "        circle_of_fifths = [0]\n",
    "        for pitch_class in self.chromatic_scale_numeric[1:]:\n",
    "            circle_of_fifths.append((circle_of_fifths[-1] + 7) % 12)\n",
    "        self.circle_of_fifths_numeric = np.array(circle_of_fifths, dtype = np.uint8)\n",
    "\n",
    "    def compute_minor_offset(self):\n",
    "        minor_offset_fifths = []\n",
    "        for pitch_class in self.circle_of_fifths_numeric:\n",
    "            minor_offset_fifths.append((pitch_class + 9) % 12)\n",
    "        self.minor_offset_fifths_numeric = np.array(minor_offset_fifths, dtype = np.uint8)\n",
    "\n",
    "    def compute_camelot_wheel(self):\n",
    "\n",
    "        def get_camelot_symbols(symbol):\n",
    "            return np.array([str(((q + 7) % 12) + 1) + symbol for q in range(0, 12)], dtype = str)\n",
    "\n",
    "        camelot_minor = get_camelot_symbols('A')\n",
    "        camelot_major = get_camelot_symbols('B')\n",
    "\n",
    "        self.camelot_wheel_minor_layer = list(\n",
    "            zip(self.array_chromatic_scale_pitch_classes[self.minor_offset_fifths_numeric], camelot_minor)\n",
    "        )\n",
    "        self.camelot_wheel_major_layer = list(\n",
    "            zip(self.array_chromatic_scale_pitch_classes[self.circle_of_fifths_numeric], camelot_major)\n",
    "        )\n",
    "        self.camelot_combined_minor_and_major = list(zip(self.camelot_wheel_minor_layer, self.camelot_wheel_major_layer))\n",
    "        \n",
    "    def summary(self):\n",
    "        return self.camelot_combined_minor_and_major"
   ]
  },
  {
   "cell_type": "code",
   "execution_count": 4,
   "id": "b11fe16d-0db5-4139-b70f-d3573a646ffb",
   "metadata": {},
   "outputs": [
    {
     "data": {
      "text/plain": [
       "[(('A', '8A'), ('C', '8B')),\n",
       " (('E', '9A'), ('G', '9B')),\n",
       " (('B', '10A'), ('D', '10B')),\n",
       " (('F#', '11A'), ('A', '11B')),\n",
       " (('Db', '12A'), ('E', '12B')),\n",
       " (('Ab', '1A'), ('B', '1B')),\n",
       " (('Eb', '2A'), ('F#', '2B')),\n",
       " (('Bb', '3A'), ('Db', '3B')),\n",
       " (('F', '4A'), ('Ab', '4B')),\n",
       " (('C', '5A'), ('Eb', '5B')),\n",
       " (('G', '6A'), ('Bb', '6B')),\n",
       " (('D', '7A'), ('F', '7B'))]"
      ]
     },
     "execution_count": 4,
     "metadata": {},
     "output_type": "execute_result"
    }
   ],
   "source": [
    "c = CamelotWheel()\n",
    "c.summary()"
   ]
  },
  {
   "cell_type": "code",
   "execution_count": null,
   "id": "6e05c491-c8b1-4a50-a418-94855370cd7e",
   "metadata": {},
   "outputs": [],
   "source": []
  }
 ],
 "metadata": {
  "kernelspec": {
   "display_name": "Python 3 (ipykernel)",
   "language": "python",
   "name": "python3"
  },
  "language_info": {
   "codemirror_mode": {
    "name": "ipython",
    "version": 3
   },
   "file_extension": ".py",
   "mimetype": "text/x-python",
   "name": "python",
   "nbconvert_exporter": "python",
   "pygments_lexer": "ipython3",
   "version": "3.10.12"
  }
 },
 "nbformat": 4,
 "nbformat_minor": 5
}
