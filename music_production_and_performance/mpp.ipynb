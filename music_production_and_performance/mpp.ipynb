{
 "cells": [
  {
   "cell_type": "code",
   "execution_count": 1,
   "id": "8547d951-9a05-4f04-b10f-a46ca6f352fe",
   "metadata": {},
   "outputs": [
    {
     "name": "stderr",
     "output_type": "stream",
     "text": [
      "/Users/emily/anaconda3/lib/python3.10/site-packages/pandas/core/arrays/masked.py:60: UserWarning: Pandas requires version '1.3.6' or newer of 'bottleneck' (version '1.3.5' currently installed).\n",
      "  from pandas.core import (\n"
     ]
    }
   ],
   "source": [
    "import numpy as np\n",
    "import pprint as pp\n",
    "import pandas as pd\n",
    "\n",
    "import scales.scales as sc\n",
    "from frequency.frequency_calculations import calculate_frequency"
   ]
  },
  {
   "cell_type": "code",
   "execution_count": 12,
   "id": "733ef0a7-9a1d-45c6-8aec-c1ad6e7f6106",
   "metadata": {},
   "outputs": [],
   "source": [
    "class Pitch():\n",
    "\n",
    "    def __init__(self, midi_number):\n",
    "        self.midi_number = np.uint8(midi_number)\n",
    "        \n",
    "        self.octave = np.int8(np.floor(self.midi_number / 12.) - 1)\n",
    "        self.frequency = calculate_frequency(self.midi_number)\n",
    "        \n",
    "        self.pitch_class_number = self.midi_number % 12\n",
    "        self.pitch_class = sc.chromatic_scale_basic[self.pitch_class_number]"
   ]
  },
  {
   "cell_type": "code",
   "execution_count": 14,
   "id": "43178267-4344-4801-b80e-11534888bd21",
   "metadata": {},
   "outputs": [
    {
     "name": "stdout",
     "output_type": "stream",
     "text": [
      "127 9 G\n",
      "120 9 C\n",
      "100 7 E\n",
      "69 4 A\n",
      "60 4 C\n",
      "59 3 B\n",
      "50 3 D\n",
      "34 1 A#/Bb\n",
      "24 1 C\n",
      "14 0 D\n",
      "13 0 C#/Db\n",
      "12 0 C\n",
      "11 -1 B\n",
      "1 -1 C#/Db\n",
      "0 -1 C\n"
     ]
    }
   ],
   "source": [
    "for i in [127, 120, 100, 69, 60, 59, 50, 34, 24, 14, 13, 12, 11, 1, 0]:\n",
    "    p = Pitch(i); print(p.midi_number, p.octave, p.pitch_class)"
   ]
  },
  {
   "cell_type": "code",
   "execution_count": null,
   "id": "35013ec7-9e22-4b7a-b1b7-b0010a8812d7",
   "metadata": {},
   "outputs": [],
   "source": []
  }
 ],
 "metadata": {
  "kernelspec": {
   "display_name": "Python 3 (ipykernel)",
   "language": "python",
   "name": "python3"
  },
  "language_info": {
   "codemirror_mode": {
    "name": "ipython",
    "version": 3
   },
   "file_extension": ".py",
   "mimetype": "text/x-python",
   "name": "python",
   "nbconvert_exporter": "python",
   "pygments_lexer": "ipython3",
   "version": "3.10.9"
  }
 },
 "nbformat": 4,
 "nbformat_minor": 5
}
